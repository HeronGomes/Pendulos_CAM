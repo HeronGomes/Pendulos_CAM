{
 "cells": [
  {
   "cell_type": "code",
   "execution_count": 30,
   "id": "genuine-clerk",
   "metadata": {},
   "outputs": [],
   "source": [
    "import cv2 as cv\n",
    "import numpy as np\n",
    "import uuid\n",
    "from collections import deque"
   ]
  },
  {
   "cell_type": "code",
   "execution_count": 141,
   "id": "rational-trust",
   "metadata": {},
   "outputs": [],
   "source": [
    "cap = cv.VideoCapture(1,cv.CAP_DSHOW)\n",
    "\n",
    "lower_blue = np.array([60,50,50])\n",
    "upper_blue = np.array([110,255,255])\n",
    "k = np.ones((5,5),np.uint8)\n",
    "pts = deque(maxlen=64)\n",
    "image_final = np.full((480,640,3),(0,0,0),np.uint8)\n",
    "image_linha = np.full((480,640,3),(0,0,0),np.uint8)\n",
    "seed = uuid.uuid1()\n",
    "fourcc = cv.VideoWriter_fourcc(*'XVID')\n",
    "video = cv.VideoWriter('video_'+str(seed)+'.avi', fourcc, 20.0, (1280,960))\n",
    "while True:\n",
    "        isCap,frame = cap.read()\n",
    "\n",
    "        if isCap:\n",
    "            hsv = cv.cvtColor(frame,cv.COLOR_BGR2HSV)\n",
    "            mask = cv.inRange(hsv, lower_blue, upper_blue)\n",
    "            res = cv.bitwise_and(frame,frame, mask= mask) \n",
    "            res[np.where(res != 0)] = 255\n",
    "            res = cv.medianBlur(res,7)\n",
    "            res = cv.dilate(res,k,iterations = 1)    \n",
    "            res = cv.cvtColor(res,cv.COLOR_HSV2BGR)\n",
    "            res = cv.cvtColor(res,cv.COLOR_BGR2GRAY)\n",
    "\n",
    "            contours,hierarchy = cv.findContours(res, cv.RETR_TREE,cv.CHAIN_APPROX_SIMPLE)\n",
    "            res = cv.cvtColor(res,cv.COLOR_GRAY2BGR)\n",
    "            \n",
    "            \n",
    "            if len(contours) > 0:\n",
    "                cnt = contours\n",
    "                c = max(cnt, key=cv.contourArea)\n",
    "                ((x, y), radius) = cv.minEnclosingCircle(c)\n",
    "                M = cv.moments(c)\n",
    "                center = (int(M[\"m10\"] / M[\"m00\"]), int(M[\"m01\"] / M[\"m00\"]))\n",
    "                cv.circle(image_final, (int(x), int(y)), int(1),(0, 255, 0), -1)\n",
    "                pts.appendleft(center)\n",
    "                for i in range(1, len(pts)):\n",
    "                    if pts[i - 1] is None or pts[i] is None:\n",
    "                        continue\n",
    "                    thickness = int(np.sqrt(64 / float(i + 1)) * 1)\n",
    "                    cv.line(image_linha, pts[i - 1], pts[i], (0, 0, 255), 1)\n",
    "            \n",
    "            \n",
    "            image_cima = cv.hconcat([frame,res])\n",
    "            image_baixo = cv.hconcat([image_final,image_linha])\n",
    "            \n",
    "            image_total = cv.vconcat([image_cima,image_baixo])\n",
    "            video.write(image_total)\n",
    "            \n",
    "            #cv.imshow('Pendulo',image_final)\n",
    "            #cv.imshow('Original',frame)\n",
    "            #cv.imshow('HSV',res)\n",
    "            #cv.imshow(\"Resultado\", image_linha)\n",
    "            \n",
    "            cv.imshow('Resultao',image_total)\n",
    "\n",
    "        key = cv.waitKey(30)\n",
    "\n",
    "        if key == ord('q'):\n",
    "            break\n",
    "        elif key == ord('s'):\n",
    "            cv.imwrite('pontos_'+str(seed)+'.jpg',image_final)\n",
    "            cv.imwrite('linhas_'+str(seed)+'.jpg',image_linha)\n",
    "        elif key == ord('c'):\n",
    "            image_final = np.full((480,640,3),(0,0,0),np.uint8)\n",
    "            image_linha = np.full((480,640,3),(0,0,0),np.uint8)\n",
    "            pts.clear()\n",
    "\n",
    "cv.destroyAllWindows()\n",
    "cap.release()\n",
    "video.release()"
   ]
  },
  {
   "cell_type": "code",
   "execution_count": 125,
   "id": "final-professor",
   "metadata": {},
   "outputs": [],
   "source": [
    "cv.destroyAllWindows()\n",
    "cap.release()"
   ]
  },
  {
   "cell_type": "code",
   "execution_count": null,
   "id": "consolidated-experiment",
   "metadata": {},
   "outputs": [],
   "source": []
  }
 ],
 "metadata": {
  "kernelspec": {
   "display_name": "Python 3",
   "language": "python",
   "name": "python3"
  },
  "language_info": {
   "codemirror_mode": {
    "name": "ipython",
    "version": 3
   },
   "file_extension": ".py",
   "mimetype": "text/x-python",
   "name": "python",
   "nbconvert_exporter": "python",
   "pygments_lexer": "ipython3",
   "version": "3.9.1"
  }
 },
 "nbformat": 4,
 "nbformat_minor": 5
}
